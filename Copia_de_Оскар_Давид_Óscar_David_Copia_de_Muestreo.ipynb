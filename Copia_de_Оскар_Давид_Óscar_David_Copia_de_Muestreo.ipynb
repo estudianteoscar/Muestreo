{
  "nbformat": 4,
  "nbformat_minor": 0,
  "metadata": {
    "colab": {
      "name": "Copia de Оскар Давид Óscar David - Copia de Muestreo.ipynb",
      "provenance": [],
      "include_colab_link": true
    },
    "kernelspec": {
      "name": "python3",
      "display_name": "Python 3"
    },
    "language_info": {
      "name": "python"
    }
  },
  "cells": [
    {
      "cell_type": "markdown",
      "metadata": {
        "id": "view-in-github",
        "colab_type": "text"
      },
      "source": [
        "<a href=\"https://colab.research.google.com/github/estudianteoscar/Muestreo/blob/main/Copia_de_%D0%9E%D1%81%D0%BA%D0%B0%D1%80_%D0%94%D0%B0%D0%B2%D0%B8%D0%B4_%C3%93scar_David_Copia_de_Muestreo.ipynb\" target=\"_parent\"><img src=\"https://colab.research.google.com/assets/colab-badge.svg\" alt=\"Open In Colab\"/></a>"
      ]
    },
    {
      "cell_type": "markdown",
      "source": [
        "# MUESTREO\n",
        "El muestreo es simplemente un conjunto de métodos para obtener muestras.\n",
        "## MUESTREO ALEATORIO SIMPLE\n",
        "Cuando hablamos de un muestreo aleatorio simple debe entenderse un muestreo sin reemplazo. El muestreo aleatorio simple se recomienda cuando las características de interés presentan gran homogeneidad, pues en caso\n",
        "contrario su uso requeriría muestras grandes, para lograr una precisión aceptable. Además, cuando se presenta cierta heterogeneidad en los datos podrían seleccionarse muestras indeseables.\n",
        "El muestreo aleatorio simple es aquel método que asigna la misma probabilidad de selección a todas y cada una de las muestras posibles y distintas. Siendo esta probablilidad \n",
        "$$P(n)=\\frac{1}{C_n^N},$$\n",
        "donde N representa al tamaño de la población y n, el tamaño de la muestra.\n",
        "\n",
        "$C_n^N$ es un número combinatorio, esto es:\n",
        "\n",
        "\\begin{equation}\n",
        "C_n^N=\\frac{N!}{(N-n)!n!}=\n",
        "\\begin{pmatrix}\n",
        "N\\\\\n",
        "n\n",
        "\\end{pmatrix}\n",
        "\\end{equation}\n",
        "# EJERCICIO 1\n",
        "1. Realizar un programa para obtener el factorial de un número natural.\n",
        "2. Realizar un programa para obtener números combinatorios.\n",
        "3. Realizar un programa que arroje la probabilidad de selección de una muestra."
      ],
      "metadata": {
        "id": "o19yPuNr0KrV"
      }
    },
    {
      "cell_type": "code",
      "source": [
        "# Factorial\n",
        "n = input(\"Introduzca el numero \")\n",
        "factorial = 1\n",
        "if int(n) >= 1:\n",
        "    for i in range(1, int(n) + 1):\n",
        "        factorial = factorial * i\n",
        "        print(\"El numero factorial \", n, \"es: \", factorial)"
      ],
      "metadata": {
        "id": "x7MVGp5G2GxV"
      },
      "execution_count": null,
      "outputs": []
    },
    {
      "cell_type": "code",
      "source": [
        "# Numeros combinatorios\n",
        "import math\n",
        "\n",
        "\n",
        "def num_comb(m, n):\n",
        "    if m < n:\n",
        "        return 0\n",
        "    else:\n",
        "        comb = math.factorial(m) / (math.factorial(n) * math.factorial(m - n))\n",
        "        return comb\n",
        "    print(num_comb(10, 5))"
      ],
      "metadata": {
        "id": "qSUhofP22MH6"
      },
      "execution_count": null,
      "outputs": []
    },
    {
      "cell_type": "code",
      "source": [
        "#Probalidad de seleccion de una muestra\n",
        "import random\n",
        "List = [12, 24, 36, 48, 60, 72,84]\n",
        "print(\"Probalidad\")\n",
        "print(random.choices(List, weights=(30, 40, 50, 60, 70, 80, 90), k=7))"
      ],
      "metadata": {
        "id": "lChomQO12R9N"
      },
      "execution_count": null,
      "outputs": []
    },
    {
      "cell_type": "markdown",
      "source": [
        "## EJERCICIO 2\n",
        "Realizar un programa para hallar la probabilidad de un muestreo simple para una población de 365 individuos y una muestra de 10."
      ],
      "metadata": {
        "id": "uVEu07iY_Cu1"
      }
    },
    {
      "cell_type": "markdown",
      "source": [
        "## Ejemplo:\n",
        "De la población estudiantil del Tecnológico de Huatabampo seleccionamos de manera aleatoria una muestra de 10 estudiantes para encuestar y obtener cierta información. En estos casos, para respetar la aleatoriedad podemos llevar a cabo la obtención de la muestra de diferentes formas, la más común consiste en asignar un número diferente a cada estudiante y luego, con la ayuda de una tabla de números aleatorios o un programa generador de éstos, elegir 10 números aleatorios y proceder a realizar las entrevistas a los alumnos seleccio- nados. Suponga que contamos a todos los estudiantes de la población del Tecnológico de Huatabampo, y el resultado es 366 estudiantes. Luego, los etiquetamos con los números 0, 1, 2, hasta 365. Ahora, mediante tablas de números aleatorios o un programa generador de éstos. Se generan los 10 números entre 0 y 365, suponga que resultan los números 45, 78, 92, 184, 197, 236, 248, 269, 275 y 291. Es decir, hemos seleccionado a los 10 estudiantes con la técnica de muestreo aleatorio simple.\n",
        "\n",
        "El siguiente es un programa para obtener números aleatorios enteros."
      ],
      "metadata": {
        "id": "BjcJoiHG5oqN"
      }
    },
    {
      "cell_type": "code",
      "execution_count": null,
      "metadata": {
        "colab": {
          "base_uri": "https://localhost:8080/"
        },
        "id": "gn9tETh1zxd6",
        "outputId": "b0fcea7e-e487-476f-dedf-94483e7c41ef"
      },
      "outputs": [
        {
          "output_type": "stream",
          "name": "stdout",
          "text": [
            "256\n",
            "206\n",
            "265\n",
            "53\n",
            "335\n",
            "363\n",
            "299\n",
            "79\n",
            "276\n",
            "168\n",
            "\n",
            " Es decir, hemos seleccionado a los 10 estudiantes con la técnica de muestreo aleatorio simple.\n"
          ]
        }
      ],
      "source": [
        "import random          # importar la libreria random\n",
        "for i in range(10):    # ciclo para.\n",
        "  aleatoria = random.randint(1, 365)   # comando para obtener números aleatorios enteros\n",
        "  print(aleatoria)                     # Imprimir\n",
        "print()\n",
        "print(\" Es decir, hemos seleccionado a los 10 estudiantes con la técnica de muestreo aleatorio simple.\")"
      ]
    },
    {
      "cell_type": "markdown",
      "source": [
        "## MUESTREO ESTRATIFICADO\n",
        "Cuando se tiene una población que puede ser divida en varias subpoblaciones a las que llamamos estratos, de acuerdo con ciertas propiedades que deben cumplir sus integrantes, pensamos en un muestreo de tipo estratificado, cuando éste cumple estas condiciones:\n",
        "\n",
        "• La población se divide en subpoblaciones denominadas estratos, en las cuales los integrantes de cada uno cumplen ciertas propiedades comunes.\n",
        "\n",
        "• Seleccionar una muestra en forma independiente de cada estrato. Si las muestras por estrato se eligen con el muestreo aleatorio simple, entonces éste se denomina muestreo aleatorio estratificado (este tipo de muestreo es el que comúnmente se utiliza). No hay reglas determinantes para elegir el tamaño de cada estrato, pero se sugiere que sea de forma proporcional a los tamaños de los estratos con respecto al tamaño poblacional.\n",
        "\n",
        "• Los estimadores para los parámetros de la población completa se proponen como una combinación de los correspondientes a los parámetros de los estratos.\n",
        "\n",
        "Este método de muestreo es flexible en cuanto a la selección de la muestra en cada estrato. Es válido señalar aquí que los estratos se construyen sin importar que sean geográficamente contiguos o no. Además, tanto el tamaño de la población completa, como el del estrato deben ser conocidos.\n",
        "El muestreo estratificado es ampliamente usado por varias razones, entre las que destacan:\n",
        "\n",
        "• Proporciona estimadores para la población más precisos (esto se logra mediante la construcción de estratos que sean lo más homogéneos posible).\n",
        "\n",
        "• Proporciona información sobre los estratos.\n",
        "\n",
        "• Permite una mejor organización del muestreo.\n",
        "\n",
        "• Permite una mejor administración de la encuesta.\n",
        "\n",
        "• Permite una mejor administración de la población.\n",
        "\n",
        "• Este tipo de muestreo se recomienda cuando se desea tener en la muestra representantes de cada subpoblación.\n",
        "\n",
        "## Ejemplo 2\n",
        "Suponga que se pide seleccionar una muestra de tamaño 2% de toda la población estudiantil de la UPIICSA,que tiene 12 500 alumnos. La muestra debe cumplir la condición de que exista al menos un representante de cada una de las carreras que se imparten en este centro educativo que tiene las siguientes carreras: administración industrial (4200), ingeniería industrial (3250), ingeniería en transporte (850), ingeniería en informática (1700) y licenciatura en informática (2500).\n",
        "\n",
        "Por el entorno del ejemplo, podemos decir que están todas las condiciones para llevar a cabo un muestreo estratificado, donde el tamaño de la muestra es de 250 alumnos (2% de 12500).\n",
        "\n",
        "## EJERCICIO 2.2\n",
        "Obtenga el tamaño de las muestras por estrato, por ejemplo:\n",
        "\n",
        "Administración industrial\n",
        "$$\\frac{4200}{12500}250=84 \\Rightarrow n_1=84$$\n",
        "\n",
        "Realice un programa que arroje porcentajes de una población dados por un usuario.\n"
      ],
      "metadata": {
        "id": "azLWR81z_kac"
      }
    },
    {
      "cell_type": "markdown",
      "source": [
        "# Referencias\n",
        "[Números aleatorios en Python](https://www.delftstack.com/es/howto/python/random-integers-between-range-python/)\n",
        "\n",
        "[Números combinatorios en Python](http://iterando.online/numero-combinatorio-en-python/)\n",
        "\n",
        "[Matemáticas en Latex](http://metodos.fam.cie.uva.es/~latex/curso-2015/apuntes3.pdf)"
      ],
      "metadata": {
        "id": "kEXE3YKC3u31"
      }
    }
  ]
}